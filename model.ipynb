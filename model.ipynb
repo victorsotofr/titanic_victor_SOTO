{
 "cells": [
  {
   "cell_type": "code",
   "execution_count": 30,
   "metadata": {},
   "outputs": [],
   "source": [
    "import numpy as np\n",
    "import pandas as pd\n",
    "\n",
    "from utils import get_train_data\n",
    "\n",
    "from FeatureEngineering import _encode\n",
    "\n",
    "from sklearn.model_selection import train_test_split\n",
    "from sklearn.pipeline import make_pipeline\n",
    "from sklearn.preprocessing import StandardScaler\n",
    "from xgboost import XGBClassifier\n",
    "\n",
    "from sklearn.metrics import accuracy_score"
   ]
  },
  {
   "cell_type": "code",
   "execution_count": 31,
   "metadata": {},
   "outputs": [],
   "source": [
    "X, y = get_train_data()\n",
    "\n",
    "X_encoded, y, preprocessor = _encode(X, y=y)"
   ]
  },
  {
   "cell_type": "code",
   "execution_count": 32,
   "metadata": {},
   "outputs": [],
   "source": [
    "X_train, X_test, y_train, y_test = train_test_split(X_encoded, y, test_size=0.2, random_state=42)\n",
    "\n",
    "pipeline = make_pipeline(\n",
    "    StandardScaler(),\n",
    "    XGBClassifier(\n",
    "        eta = 0.2,\n",
    "        gamma = 0,\n",
    "        max_depth = 6,\n",
    "        min_child_weight = 1,\n",
    "        subsample = 1,\n",
    "        colsample_bytree = 1,\n",
    "        seed = 42,\n",
    "    )\n",
    ")\n",
    "\n",
    "pipeline.fit(X_train, y_train)\n",
    "\n",
    "y_pred = pipeline.predict(X_test)"
   ]
  },
  {
   "cell_type": "markdown",
   "metadata": {},
   "source": [
    "## __Optuna__"
   ]
  },
  {
   "cell_type": "code",
   "execution_count": 33,
   "metadata": {},
   "outputs": [
    {
     "name": "stderr",
     "output_type": "stream",
     "text": [
      "/Applications/anaconda3/envs/kaggle_env/lib/python3.9/site-packages/tqdm/auto.py:21: TqdmWarning: IProgress not found. Please update jupyter and ipywidgets. See https://ipywidgets.readthedocs.io/en/stable/user_install.html\n",
      "  from .autonotebook import tqdm as notebook_tqdm\n"
     ]
    }
   ],
   "source": [
    "import optuna"
   ]
  },
  {
   "cell_type": "code",
   "execution_count": 43,
   "metadata": {},
   "outputs": [],
   "source": [
    "def objective(trial):\n",
    "    # Split the data\n",
    "    X_train, X_val, y_train, y_val = train_test_split(X_encoded, y, \n",
    "                                                      test_size=0.2, \n",
    "                                                      random_state=42)\n",
    "\n",
    "    # Hyperparameter search space\n",
    "    param = {\n",
    "    'eta': trial.suggest_float('eta', 0.01, 0.2),\n",
    "    'gamma': trial.suggest_float('gamma', 0.0, 5.0),\n",
    "    'max_depth': trial.suggest_int('max_depth', 3, 10),  # Added missing comma here\n",
    "    'min_child_weight': trial.suggest_int('min_child_weight', 3, 10),\n",
    "    'subsample': trial.suggest_float('subsample', 0.5, 1.0),\n",
    "    'colsample_bytree': trial.suggest_float('colsample_bytree', 0.5, 1.0)\n",
    "    }\n",
    "\n",
    "    # Train XGBoost\n",
    "    pipeline = make_pipeline(\n",
    "    StandardScaler(),\n",
    "    XGBClassifier(**param)\n",
    "    )\n",
    "    pipeline.fit(X_train, y_train)\n",
    "\n",
    "    # Evaluate\n",
    "    preds = pipeline.predict(X_val)\n",
    "    accuracy = accuracy_score(y_val, preds)\n",
    "    return accuracy"
   ]
  },
  {
   "cell_type": "code",
   "execution_count": 44,
   "metadata": {},
   "outputs": [
    {
     "name": "stderr",
     "output_type": "stream",
     "text": [
      "[I 2025-01-04 12:35:26,210] A new study created in memory with name: no-name-50005d9e-e480-45e2-bf29-4089eeb08fd5\n",
      "[I 2025-01-04 12:35:29,502] Trial 0 finished with value: 0.8156424581005587 and parameters: {'eta': 0.17494786853214872, 'gamma': 4.6849034407554315, 'max_depth': 8, 'min_child_weight': 7, 'subsample': 0.9050605797533691, 'colsample_bytree': 0.5970826263307563}. Best is trial 0 with value: 0.8156424581005587.\n",
      "[I 2025-01-04 12:35:32,185] Trial 1 finished with value: 0.8100558659217877 and parameters: {'eta': 0.015788676140434738, 'gamma': 1.3042841784810966, 'max_depth': 3, 'min_child_weight': 6, 'subsample': 0.6993429897017918, 'colsample_bytree': 0.51280214371911}. Best is trial 0 with value: 0.8156424581005587.\n",
      "[I 2025-01-04 12:35:32,629] Trial 2 finished with value: 0.7988826815642458 and parameters: {'eta': 0.031209463097379007, 'gamma': 2.0715476511240913, 'max_depth': 9, 'min_child_weight': 9, 'subsample': 0.7343172084490812, 'colsample_bytree': 0.888771575982402}. Best is trial 0 with value: 0.8156424581005587.\n",
      "[I 2025-01-04 12:35:32,928] Trial 3 finished with value: 0.8268156424581006 and parameters: {'eta': 0.18429585368047793, 'gamma': 3.1094967677331367, 'max_depth': 9, 'min_child_weight': 4, 'subsample': 0.691958861288139, 'colsample_bytree': 0.9057836738504013}. Best is trial 3 with value: 0.8268156424581006.\n",
      "[I 2025-01-04 12:35:33,235] Trial 4 finished with value: 0.7988826815642458 and parameters: {'eta': 0.08949563408803174, 'gamma': 2.6533899044429683, 'max_depth': 8, 'min_child_weight': 5, 'subsample': 0.9578379362431706, 'colsample_bytree': 0.6703917035202485}. Best is trial 3 with value: 0.8268156424581006.\n",
      "[I 2025-01-04 12:35:33,712] Trial 5 finished with value: 0.8044692737430168 and parameters: {'eta': 0.11967366968648546, 'gamma': 3.883159743258214, 'max_depth': 8, 'min_child_weight': 5, 'subsample': 0.7353498326315653, 'colsample_bytree': 0.5484440962962758}. Best is trial 3 with value: 0.8268156424581006.\n",
      "[I 2025-01-04 12:35:34,656] Trial 6 finished with value: 0.7988826815642458 and parameters: {'eta': 0.05003011805698203, 'gamma': 1.85021350015941, 'max_depth': 7, 'min_child_weight': 3, 'subsample': 0.8583539387666956, 'colsample_bytree': 0.9996407454484044}. Best is trial 3 with value: 0.8268156424581006.\n",
      "[I 2025-01-04 12:35:36,725] Trial 7 finished with value: 0.7988826815642458 and parameters: {'eta': 0.03328049613348645, 'gamma': 3.8213191028501003, 'max_depth': 5, 'min_child_weight': 10, 'subsample': 0.9319634321751191, 'colsample_bytree': 0.9673646790786231}. Best is trial 3 with value: 0.8268156424581006.\n",
      "[I 2025-01-04 12:35:37,202] Trial 8 finished with value: 0.8156424581005587 and parameters: {'eta': 0.1695767901480166, 'gamma': 3.1054465258482216, 'max_depth': 8, 'min_child_weight': 9, 'subsample': 0.9248728220358757, 'colsample_bytree': 0.6637567198778762}. Best is trial 3 with value: 0.8268156424581006.\n",
      "[I 2025-01-04 12:35:37,639] Trial 9 finished with value: 0.8156424581005587 and parameters: {'eta': 0.12593884738825015, 'gamma': 1.4549076552142566, 'max_depth': 4, 'min_child_weight': 4, 'subsample': 0.84019612291409, 'colsample_bytree': 0.6003866545052319}. Best is trial 3 with value: 0.8268156424581006.\n",
      "[I 2025-01-04 12:35:38,095] Trial 10 finished with value: 0.8156424581005587 and parameters: {'eta': 0.18806874687337427, 'gamma': 0.33934508078692627, 'max_depth': 10, 'min_child_weight': 3, 'subsample': 0.5499523030378526, 'colsample_bytree': 0.8269709882055921}. Best is trial 3 with value: 0.8268156424581006.\n",
      "[I 2025-01-04 12:35:38,370] Trial 11 finished with value: 0.8044692737430168 and parameters: {'eta': 0.1596625117960828, 'gamma': 4.877624137007192, 'max_depth': 10, 'min_child_weight': 7, 'subsample': 0.6217124673516179, 'colsample_bytree': 0.7589588255572488}. Best is trial 3 with value: 0.8268156424581006.\n",
      "[I 2025-01-04 12:35:38,868] Trial 12 finished with value: 0.8156424581005587 and parameters: {'eta': 0.19340114008741877, 'gamma': 4.951761784112503, 'max_depth': 6, 'min_child_weight': 7, 'subsample': 0.8261744394828969, 'colsample_bytree': 0.782003532127766}. Best is trial 3 with value: 0.8268156424581006.\n",
      "[I 2025-01-04 12:35:39,226] Trial 13 finished with value: 0.8156424581005587 and parameters: {'eta': 0.1470563032705725, 'gamma': 3.8791048448468364, 'max_depth': 7, 'min_child_weight': 8, 'subsample': 0.6445341696322682, 'colsample_bytree': 0.8940790462459115}. Best is trial 3 with value: 0.8268156424581006.\n",
      "[I 2025-01-04 12:35:39,555] Trial 14 finished with value: 0.8100558659217877 and parameters: {'eta': 0.08291081086539442, 'gamma': 3.2624083718140016, 'max_depth': 9, 'min_child_weight': 6, 'subsample': 0.996156088296275, 'colsample_bytree': 0.6667725778701739}. Best is trial 3 with value: 0.8268156424581006.\n",
      "[I 2025-01-04 12:35:39,959] Trial 15 finished with value: 0.8100558659217877 and parameters: {'eta': 0.1361260644209947, 'gamma': 4.347029200825581, 'max_depth': 9, 'min_child_weight': 5, 'subsample': 0.5021271164107781, 'colsample_bytree': 0.8456970559899996}. Best is trial 3 with value: 0.8268156424581006.\n",
      "[I 2025-01-04 12:35:40,319] Trial 16 finished with value: 0.8100558659217877 and parameters: {'eta': 0.19960882414320166, 'gamma': 2.9768098236905116, 'max_depth': 6, 'min_child_weight': 8, 'subsample': 0.7932386868520508, 'colsample_bytree': 0.5996055107091871}. Best is trial 3 with value: 0.8268156424581006.\n",
      "[I 2025-01-04 12:35:40,917] Trial 17 finished with value: 0.8156424581005587 and parameters: {'eta': 0.1679307404850933, 'gamma': 0.34781261015910836, 'max_depth': 10, 'min_child_weight': 4, 'subsample': 0.6604182849173686, 'colsample_bytree': 0.7111085571820033}. Best is trial 3 with value: 0.8268156424581006.\n",
      "[I 2025-01-04 12:35:41,290] Trial 18 finished with value: 0.8044692737430168 and parameters: {'eta': 0.1036915940090169, 'gamma': 4.247701816868561, 'max_depth': 8, 'min_child_weight': 4, 'subsample': 0.8914659360183693, 'colsample_bytree': 0.927514849415085}. Best is trial 3 with value: 0.8268156424581006.\n",
      "[I 2025-01-04 12:35:42,221] Trial 19 finished with value: 0.8212290502793296 and parameters: {'eta': 0.17496047004916548, 'gamma': 2.206528830723998, 'max_depth': 7, 'min_child_weight': 6, 'subsample': 0.7920921652127844, 'colsample_bytree': 0.8096023799638267}. Best is trial 3 with value: 0.8268156424581006.\n",
      "[I 2025-01-04 12:35:43,961] Trial 20 finished with value: 0.8324022346368715 and parameters: {'eta': 0.1440379651670785, 'gamma': 2.32499246277698, 'max_depth': 5, 'min_child_weight': 6, 'subsample': 0.778291388554616, 'colsample_bytree': 0.8082041065563971}. Best is trial 20 with value: 0.8324022346368715.\n",
      "[I 2025-01-04 12:35:44,509] Trial 21 finished with value: 0.8212290502793296 and parameters: {'eta': 0.14538844635937787, 'gamma': 2.3137643787990707, 'max_depth': 5, 'min_child_weight': 6, 'subsample': 0.784560954814278, 'colsample_bytree': 0.8062672998465283}. Best is trial 20 with value: 0.8324022346368715.\n",
      "[I 2025-01-04 12:35:45,164] Trial 22 finished with value: 0.8100558659217877 and parameters: {'eta': 0.18105273753616138, 'gamma': 1.145432325002699, 'max_depth': 5, 'min_child_weight': 5, 'subsample': 0.695772220626112, 'colsample_bytree': 0.8633856885786043}. Best is trial 20 with value: 0.8324022346368715.\n",
      "[I 2025-01-04 12:35:45,474] Trial 23 finished with value: 0.8156424581005587 and parameters: {'eta': 0.15559651712484454, 'gamma': 2.6713789246286157, 'max_depth': 4, 'min_child_weight': 6, 'subsample': 0.7758240682777569, 'colsample_bytree': 0.7203756600885394}. Best is trial 20 with value: 0.8324022346368715.\n",
      "[I 2025-01-04 12:35:45,947] Trial 24 finished with value: 0.8268156424581006 and parameters: {'eta': 0.13293605877619216, 'gamma': 1.6021368175946937, 'max_depth': 6, 'min_child_weight': 4, 'subsample': 0.6130803175835581, 'colsample_bytree': 0.9218913292074353}. Best is trial 20 with value: 0.8324022346368715.\n",
      "[I 2025-01-04 12:35:47,075] Trial 25 finished with value: 0.8212290502793296 and parameters: {'eta': 0.1139727702311592, 'gamma': 0.9186806101313016, 'max_depth': 6, 'min_child_weight': 3, 'subsample': 0.5888699856920961, 'colsample_bytree': 0.9410235044820168}. Best is trial 20 with value: 0.8324022346368715.\n",
      "[I 2025-01-04 12:35:47,606] Trial 26 finished with value: 0.8379888268156425 and parameters: {'eta': 0.13931600539184902, 'gamma': 1.6973396780852883, 'max_depth': 4, 'min_child_weight': 4, 'subsample': 0.5885034417642654, 'colsample_bytree': 0.9034020022420274}. Best is trial 26 with value: 0.8379888268156425.\n",
      "[I 2025-01-04 12:35:48,203] Trial 27 finished with value: 0.8156424581005587 and parameters: {'eta': 0.10193152453144277, 'gamma': 1.8288499810904304, 'max_depth': 3, 'min_child_weight': 3, 'subsample': 0.5708543889606817, 'colsample_bytree': 0.8583720195142251}. Best is trial 26 with value: 0.8379888268156425.\n",
      "[I 2025-01-04 12:35:48,528] Trial 28 finished with value: 0.8100558659217877 and parameters: {'eta': 0.07331344594433425, 'gamma': 3.331452127731143, 'max_depth': 4, 'min_child_weight': 4, 'subsample': 0.6945079394575516, 'colsample_bytree': 0.8966838503834099}. Best is trial 26 with value: 0.8379888268156425.\n",
      "[I 2025-01-04 12:35:48,945] Trial 29 finished with value: 0.8268156424581006 and parameters: {'eta': 0.1457186441292253, 'gamma': 0.9329174772233417, 'max_depth': 4, 'min_child_weight': 5, 'subsample': 0.5138520928692362, 'colsample_bytree': 0.9771334202569243}. Best is trial 26 with value: 0.8379888268156425.\n",
      "[I 2025-01-04 12:35:49,224] Trial 30 finished with value: 0.8156424581005587 and parameters: {'eta': 0.1588760695394548, 'gamma': 2.58891818419338, 'max_depth': 5, 'min_child_weight': 8, 'subsample': 0.6444343491442326, 'colsample_bytree': 0.7724007088916528}. Best is trial 26 with value: 0.8379888268156425.\n",
      "[I 2025-01-04 12:35:49,533] Trial 31 finished with value: 0.8379888268156425 and parameters: {'eta': 0.13150579286065767, 'gamma': 1.6960618725262622, 'max_depth': 6, 'min_child_weight': 4, 'subsample': 0.5971431355773461, 'colsample_bytree': 0.9287099142870172}. Best is trial 26 with value: 0.8379888268156425.\n",
      "[I 2025-01-04 12:35:49,844] Trial 32 finished with value: 0.8268156424581006 and parameters: {'eta': 0.13156115445138394, 'gamma': 1.7357375775587183, 'max_depth': 3, 'min_child_weight': 4, 'subsample': 0.5424568111556917, 'colsample_bytree': 0.9514155979165965}. Best is trial 26 with value: 0.8379888268156425.\n",
      "[I 2025-01-04 12:35:50,131] Trial 33 finished with value: 0.8100558659217877 and parameters: {'eta': 0.11432593089235557, 'gamma': 2.102303471182288, 'max_depth': 5, 'min_child_weight': 3, 'subsample': 0.6739830070787887, 'colsample_bytree': 0.905087655595722}. Best is trial 26 with value: 0.8379888268156425.\n",
      "[I 2025-01-04 12:35:50,672] Trial 34 finished with value: 0.8100558659217877 and parameters: {'eta': 0.14070041788014745, 'gamma': 2.8163935232643107, 'max_depth': 4, 'min_child_weight': 5, 'subsample': 0.7217212718129916, 'colsample_bytree': 0.867103275175588}. Best is trial 26 with value: 0.8379888268156425.\n",
      "[I 2025-01-04 12:35:51,047] Trial 35 finished with value: 0.8156424581005587 and parameters: {'eta': 0.0943304818673597, 'gamma': 2.433791441974114, 'max_depth': 7, 'min_child_weight': 4, 'subsample': 0.5968227150698852, 'colsample_bytree': 0.9906308063061463}. Best is trial 26 with value: 0.8379888268156425.\n",
      "[I 2025-01-04 12:35:52,952] Trial 36 finished with value: 0.8379888268156425 and parameters: {'eta': 0.12399246760168814, 'gamma': 0.6690677834592174, 'max_depth': 6, 'min_child_weight': 5, 'subsample': 0.7472197117850268, 'colsample_bytree': 0.8329897483629513}. Best is trial 26 with value: 0.8379888268156425.\n",
      "[I 2025-01-04 12:35:53,918] Trial 37 finished with value: 0.8212290502793296 and parameters: {'eta': 0.12138336801033586, 'gamma': 0.6220393185210371, 'max_depth': 6, 'min_child_weight': 5, 'subsample': 0.718456318976705, 'colsample_bytree': 0.8288763989227683}. Best is trial 26 with value: 0.8379888268156425.\n",
      "[I 2025-01-04 12:35:54,432] Trial 38 finished with value: 0.8156424581005587 and parameters: {'eta': 0.06597124144863421, 'gamma': 1.2536747145659155, 'max_depth': 5, 'min_child_weight': 6, 'subsample': 0.7612194201899541, 'colsample_bytree': 0.7937859226662239}. Best is trial 26 with value: 0.8379888268156425.\n",
      "[I 2025-01-04 12:35:55,082] Trial 39 finished with value: 0.8212290502793296 and parameters: {'eta': 0.11367898308974045, 'gamma': 0.05315520350968861, 'max_depth': 3, 'min_child_weight': 5, 'subsample': 0.8729510729310783, 'colsample_bytree': 0.7283112877851124}. Best is trial 26 with value: 0.8379888268156425.\n",
      "[I 2025-01-04 12:35:55,640] Trial 40 finished with value: 0.8268156424581006 and parameters: {'eta': 0.152358042779674, 'gamma': 1.4670015503025167, 'max_depth': 6, 'min_child_weight': 7, 'subsample': 0.8283362481425848, 'colsample_bytree': 0.8801010655827872}. Best is trial 26 with value: 0.8379888268156425.\n",
      "[I 2025-01-04 12:35:56,347] Trial 41 finished with value: 0.8268156424581006 and parameters: {'eta': 0.12411727046786984, 'gamma': 2.0462461840100694, 'max_depth': 5, 'min_child_weight': 4, 'subsample': 0.7498934835151552, 'colsample_bytree': 0.8317909611487411}. Best is trial 26 with value: 0.8379888268156425.\n",
      "[I 2025-01-04 12:35:56,792] Trial 42 finished with value: 0.8100558659217877 and parameters: {'eta': 0.1654647111750242, 'gamma': 3.5257252855636256, 'max_depth': 7, 'min_child_weight': 5, 'subsample': 0.6713986348521794, 'colsample_bytree': 0.9150282173712129}. Best is trial 26 with value: 0.8379888268156425.\n",
      "[I 2025-01-04 12:35:57,685] Trial 43 finished with value: 0.8379888268156425 and parameters: {'eta': 0.18021754880491206, 'gamma': 1.8758948032492857, 'max_depth': 4, 'min_child_weight': 3, 'subsample': 0.5540056939480307, 'colsample_bytree': 0.9559168447626918}. Best is trial 26 with value: 0.8379888268156425.\n",
      "[I 2025-01-04 12:35:58,190] Trial 44 finished with value: 0.8212290502793296 and parameters: {'eta': 0.13454316866026292, 'gamma': 1.9102585847867384, 'max_depth': 4, 'min_child_weight': 3, 'subsample': 0.5517530157608448, 'colsample_bytree': 0.9534529524746649}. Best is trial 26 with value: 0.8379888268156425.\n",
      "[I 2025-01-04 12:35:58,978] Trial 45 finished with value: 0.8212290502793296 and parameters: {'eta': 0.1797164408500109, 'gamma': 0.9639874684169109, 'max_depth': 4, 'min_child_weight': 3, 'subsample': 0.5270236406535037, 'colsample_bytree': 0.8836336566645948}. Best is trial 26 with value: 0.8379888268156425.\n",
      "[I 2025-01-04 12:35:59,509] Trial 46 finished with value: 0.8268156424581006 and parameters: {'eta': 0.1268662166958009, 'gamma': 1.5418319127911375, 'max_depth': 5, 'min_child_weight': 4, 'subsample': 0.5735528415981953, 'colsample_bytree': 0.9714549787242625}. Best is trial 26 with value: 0.8379888268156425.\n",
      "[I 2025-01-04 12:36:00,089] Trial 47 finished with value: 0.8379888268156425 and parameters: {'eta': 0.09821742554907728, 'gamma': 0.6542519207361122, 'max_depth': 3, 'min_child_weight': 3, 'subsample': 0.6234964643646996, 'colsample_bytree': 0.9423430306239233}. Best is trial 26 with value: 0.8379888268156425.\n",
      "[I 2025-01-04 12:36:00,530] Trial 48 finished with value: 0.8268156424581006 and parameters: {'eta': 0.09327393316975746, 'gamma': 0.6525872474472869, 'max_depth': 3, 'min_child_weight': 3, 'subsample': 0.6251020899722948, 'colsample_bytree': 0.9405421208395578}. Best is trial 26 with value: 0.8379888268156425.\n",
      "[I 2025-01-04 12:36:01,214] Trial 49 finished with value: 0.8212290502793296 and parameters: {'eta': 0.08235897157892336, 'gamma': 0.0032502262111175906, 'max_depth': 3, 'min_child_weight': 3, 'subsample': 0.571967868990773, 'colsample_bytree': 0.9962446963669819}. Best is trial 26 with value: 0.8379888268156425.\n"
     ]
    },
    {
     "name": "stdout",
     "output_type": "stream",
     "text": [
      "Best trial:\n",
      " Value:  0.8379888268156425\n",
      " Params:  {'eta': 0.13931600539184902, 'gamma': 1.6973396780852883, 'max_depth': 4, 'min_child_weight': 4, 'subsample': 0.5885034417642654, 'colsample_bytree': 0.9034020022420274}\n"
     ]
    }
   ],
   "source": [
    "# Create a study\n",
    "study = optuna.create_study(direction='maximize')  # 'minimize' for RMSE, 'maximize' for accuracy, etc.\n",
    "\n",
    "# Optimize\n",
    "study.optimize(objective, n_trials=50)\n",
    "\n",
    "# Best parameters and score\n",
    "print(\"Best trial:\")\n",
    "print(\" Value: \", study.best_value)\n",
    "print(\" Params: \", study.best_params)"
   ]
  },
  {
   "cell_type": "code",
   "execution_count": 45,
   "metadata": {},
   "outputs": [
    {
     "data": {
      "text/html": [
       "<style>#sk-container-id-1 {color: black;}#sk-container-id-1 pre{padding: 0;}#sk-container-id-1 div.sk-toggleable {background-color: white;}#sk-container-id-1 label.sk-toggleable__label {cursor: pointer;display: block;width: 100%;margin-bottom: 0;padding: 0.3em;box-sizing: border-box;text-align: center;}#sk-container-id-1 label.sk-toggleable__label-arrow:before {content: \"▸\";float: left;margin-right: 0.25em;color: #696969;}#sk-container-id-1 label.sk-toggleable__label-arrow:hover:before {color: black;}#sk-container-id-1 div.sk-estimator:hover label.sk-toggleable__label-arrow:before {color: black;}#sk-container-id-1 div.sk-toggleable__content {max-height: 0;max-width: 0;overflow: hidden;text-align: left;background-color: #f0f8ff;}#sk-container-id-1 div.sk-toggleable__content pre {margin: 0.2em;color: black;border-radius: 0.25em;background-color: #f0f8ff;}#sk-container-id-1 input.sk-toggleable__control:checked~div.sk-toggleable__content {max-height: 200px;max-width: 100%;overflow: auto;}#sk-container-id-1 input.sk-toggleable__control:checked~label.sk-toggleable__label-arrow:before {content: \"▾\";}#sk-container-id-1 div.sk-estimator input.sk-toggleable__control:checked~label.sk-toggleable__label {background-color: #d4ebff;}#sk-container-id-1 div.sk-label input.sk-toggleable__control:checked~label.sk-toggleable__label {background-color: #d4ebff;}#sk-container-id-1 input.sk-hidden--visually {border: 0;clip: rect(1px 1px 1px 1px);clip: rect(1px, 1px, 1px, 1px);height: 1px;margin: -1px;overflow: hidden;padding: 0;position: absolute;width: 1px;}#sk-container-id-1 div.sk-estimator {font-family: monospace;background-color: #f0f8ff;border: 1px dotted black;border-radius: 0.25em;box-sizing: border-box;margin-bottom: 0.5em;}#sk-container-id-1 div.sk-estimator:hover {background-color: #d4ebff;}#sk-container-id-1 div.sk-parallel-item::after {content: \"\";width: 100%;border-bottom: 1px solid gray;flex-grow: 1;}#sk-container-id-1 div.sk-label:hover label.sk-toggleable__label {background-color: #d4ebff;}#sk-container-id-1 div.sk-serial::before {content: \"\";position: absolute;border-left: 1px solid gray;box-sizing: border-box;top: 0;bottom: 0;left: 50%;z-index: 0;}#sk-container-id-1 div.sk-serial {display: flex;flex-direction: column;align-items: center;background-color: white;padding-right: 0.2em;padding-left: 0.2em;position: relative;}#sk-container-id-1 div.sk-item {position: relative;z-index: 1;}#sk-container-id-1 div.sk-parallel {display: flex;align-items: stretch;justify-content: center;background-color: white;position: relative;}#sk-container-id-1 div.sk-item::before, #sk-container-id-1 div.sk-parallel-item::before {content: \"\";position: absolute;border-left: 1px solid gray;box-sizing: border-box;top: 0;bottom: 0;left: 50%;z-index: -1;}#sk-container-id-1 div.sk-parallel-item {display: flex;flex-direction: column;z-index: 1;position: relative;background-color: white;}#sk-container-id-1 div.sk-parallel-item:first-child::after {align-self: flex-end;width: 50%;}#sk-container-id-1 div.sk-parallel-item:last-child::after {align-self: flex-start;width: 50%;}#sk-container-id-1 div.sk-parallel-item:only-child::after {width: 0;}#sk-container-id-1 div.sk-dashed-wrapped {border: 1px dashed gray;margin: 0 0.4em 0.5em 0.4em;box-sizing: border-box;padding-bottom: 0.4em;background-color: white;}#sk-container-id-1 div.sk-label label {font-family: monospace;font-weight: bold;display: inline-block;line-height: 1.2em;}#sk-container-id-1 div.sk-label-container {text-align: center;}#sk-container-id-1 div.sk-container {/* jupyter's `normalize.less` sets `[hidden] { display: none; }` but bootstrap.min.css set `[hidden] { display: none !important; }` so we also need the `!important` here to be able to override the default hidden behavior on the sphinx rendered scikit-learn.org. See: https://github.com/scikit-learn/scikit-learn/issues/21755 */display: inline-block !important;position: relative;}#sk-container-id-1 div.sk-text-repr-fallback {display: none;}</style><div id=\"sk-container-id-1\" class=\"sk-top-container\"><div class=\"sk-text-repr-fallback\"><pre>Pipeline(steps=[(&#x27;standardscaler&#x27;, StandardScaler()),\n",
       "                (&#x27;xgbclassifier&#x27;,\n",
       "                 XGBClassifier(base_score=None, booster=None, callbacks=None,\n",
       "                               colsample_bylevel=None, colsample_bynode=None,\n",
       "                               colsample_bytree=0.9034020022420274, device=None,\n",
       "                               early_stopping_rounds=None,\n",
       "                               enable_categorical=False,\n",
       "                               eta=0.13931600539184902, eval_metric=None,\n",
       "                               feature_types=None, gamma=1.6973396780852883,\n",
       "                               grow_policy=None, importance_type=None,\n",
       "                               interaction_constraints=None, learning_rate=None,\n",
       "                               max_bin=None, max_cat_threshold=None,\n",
       "                               max_cat_to_onehot=None, max_delta_step=None,\n",
       "                               max_depth=4, max_leaves=None, min_child_weight=4,\n",
       "                               missing=nan, monotone_constraints=None,\n",
       "                               multi_strategy=None, n_estimators=None,\n",
       "                               n_jobs=None, num_parallel_tree=None, ...))])</pre><b>In a Jupyter environment, please rerun this cell to show the HTML representation or trust the notebook. <br />On GitHub, the HTML representation is unable to render, please try loading this page with nbviewer.org.</b></div><div class=\"sk-container\" hidden><div class=\"sk-item sk-dashed-wrapped\"><div class=\"sk-label-container\"><div class=\"sk-label sk-toggleable\"><input class=\"sk-toggleable__control sk-hidden--visually\" id=\"sk-estimator-id-1\" type=\"checkbox\" ><label for=\"sk-estimator-id-1\" class=\"sk-toggleable__label sk-toggleable__label-arrow\">Pipeline</label><div class=\"sk-toggleable__content\"><pre>Pipeline(steps=[(&#x27;standardscaler&#x27;, StandardScaler()),\n",
       "                (&#x27;xgbclassifier&#x27;,\n",
       "                 XGBClassifier(base_score=None, booster=None, callbacks=None,\n",
       "                               colsample_bylevel=None, colsample_bynode=None,\n",
       "                               colsample_bytree=0.9034020022420274, device=None,\n",
       "                               early_stopping_rounds=None,\n",
       "                               enable_categorical=False,\n",
       "                               eta=0.13931600539184902, eval_metric=None,\n",
       "                               feature_types=None, gamma=1.6973396780852883,\n",
       "                               grow_policy=None, importance_type=None,\n",
       "                               interaction_constraints=None, learning_rate=None,\n",
       "                               max_bin=None, max_cat_threshold=None,\n",
       "                               max_cat_to_onehot=None, max_delta_step=None,\n",
       "                               max_depth=4, max_leaves=None, min_child_weight=4,\n",
       "                               missing=nan, monotone_constraints=None,\n",
       "                               multi_strategy=None, n_estimators=None,\n",
       "                               n_jobs=None, num_parallel_tree=None, ...))])</pre></div></div></div><div class=\"sk-serial\"><div class=\"sk-item\"><div class=\"sk-estimator sk-toggleable\"><input class=\"sk-toggleable__control sk-hidden--visually\" id=\"sk-estimator-id-2\" type=\"checkbox\" ><label for=\"sk-estimator-id-2\" class=\"sk-toggleable__label sk-toggleable__label-arrow\">StandardScaler</label><div class=\"sk-toggleable__content\"><pre>StandardScaler()</pre></div></div></div><div class=\"sk-item\"><div class=\"sk-estimator sk-toggleable\"><input class=\"sk-toggleable__control sk-hidden--visually\" id=\"sk-estimator-id-3\" type=\"checkbox\" ><label for=\"sk-estimator-id-3\" class=\"sk-toggleable__label sk-toggleable__label-arrow\">XGBClassifier</label><div class=\"sk-toggleable__content\"><pre>XGBClassifier(base_score=None, booster=None, callbacks=None,\n",
       "              colsample_bylevel=None, colsample_bynode=None,\n",
       "              colsample_bytree=0.9034020022420274, device=None,\n",
       "              early_stopping_rounds=None, enable_categorical=False,\n",
       "              eta=0.13931600539184902, eval_metric=None, feature_types=None,\n",
       "              gamma=1.6973396780852883, grow_policy=None, importance_type=None,\n",
       "              interaction_constraints=None, learning_rate=None, max_bin=None,\n",
       "              max_cat_threshold=None, max_cat_to_onehot=None,\n",
       "              max_delta_step=None, max_depth=4, max_leaves=None,\n",
       "              min_child_weight=4, missing=nan, monotone_constraints=None,\n",
       "              multi_strategy=None, n_estimators=None, n_jobs=None,\n",
       "              num_parallel_tree=None, ...)</pre></div></div></div></div></div></div></div>"
      ],
      "text/plain": [
       "Pipeline(steps=[('standardscaler', StandardScaler()),\n",
       "                ('xgbclassifier',\n",
       "                 XGBClassifier(base_score=None, booster=None, callbacks=None,\n",
       "                               colsample_bylevel=None, colsample_bynode=None,\n",
       "                               colsample_bytree=0.9034020022420274, device=None,\n",
       "                               early_stopping_rounds=None,\n",
       "                               enable_categorical=False,\n",
       "                               eta=0.13931600539184902, eval_metric=None,\n",
       "                               feature_types=None, gamma=1.6973396780852883,\n",
       "                               grow_policy=None, importance_type=None,\n",
       "                               interaction_constraints=None, learning_rate=None,\n",
       "                               max_bin=None, max_cat_threshold=None,\n",
       "                               max_cat_to_onehot=None, max_delta_step=None,\n",
       "                               max_depth=4, max_leaves=None, min_child_weight=4,\n",
       "                               missing=nan, monotone_constraints=None,\n",
       "                               multi_strategy=None, n_estimators=None,\n",
       "                               n_jobs=None, num_parallel_tree=None, ...))])"
      ]
     },
     "execution_count": 45,
     "metadata": {},
     "output_type": "execute_result"
    }
   ],
   "source": [
    "best_params = study.best_params\n",
    "best_pipeline = make_pipeline(\n",
    "    StandardScaler(),\n",
    "    XGBClassifier(**best_params))\n",
    "best_pipeline.fit(X_encoded, y)"
   ]
  },
  {
   "cell_type": "markdown",
   "metadata": {},
   "source": [
    "## __Prediction__"
   ]
  },
  {
   "cell_type": "code",
   "execution_count": 46,
   "metadata": {},
   "outputs": [],
   "source": [
    "test_data = pd.read_csv('data/test.csv')\n",
    "test_data_encoded = _encode(test_data, preprocessor=preprocessor).reindex(columns=X_encoded.columns, \n",
    "                                                fill_value=0)\n",
    "\n",
    "predictions = best_pipeline.predict(test_data_encoded)"
   ]
  },
  {
   "cell_type": "markdown",
   "metadata": {},
   "source": [
    "## __Output__"
   ]
  },
  {
   "cell_type": "code",
   "execution_count": 47,
   "metadata": {},
   "outputs": [],
   "source": [
    "results = pd.DataFrame(\n",
    "    dict(\n",
    "        PassengerId=test_data['PassengerId'],\n",
    "        Survived=predictions,\n",
    "    )\n",
    ")\n",
    "\n",
    "results.to_csv('submission_XGB_vOptuna.csv', index=False)"
   ]
  }
 ],
 "metadata": {
  "kernelspec": {
   "display_name": "kaggle_env",
   "language": "python",
   "name": "python3"
  },
  "language_info": {
   "codemirror_mode": {
    "name": "ipython",
    "version": 3
   },
   "file_extension": ".py",
   "mimetype": "text/x-python",
   "name": "python",
   "nbconvert_exporter": "python",
   "pygments_lexer": "ipython3",
   "version": "3.9.21"
  }
 },
 "nbformat": 4,
 "nbformat_minor": 2
}
